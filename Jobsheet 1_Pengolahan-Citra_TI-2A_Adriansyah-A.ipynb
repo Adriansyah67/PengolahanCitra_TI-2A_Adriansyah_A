{
  "nbformat": 4,
  "nbformat_minor": 0,
  "metadata": {
    "colab": {
      "provenance": [],
      "authorship_tag": "ABX9TyPL+RVfFScSb1MvMZrVcPsU",
      "include_colab_link": true
    },
    "kernelspec": {
      "name": "python3",
      "display_name": "Python 3"
    },
    "language_info": {
      "name": "python"
    }
  },
  "cells": [
    {
      "cell_type": "markdown",
      "metadata": {
        "id": "view-in-github",
        "colab_type": "text"
      },
      "source": [
        "<a href=\"https://colab.research.google.com/github/Adriansyah67/PengolahanCitra_TI-2A_Adriansyah_A/blob/main/Jobsheet%201_Pengolahan-Citra_TI-2A_Adriansyah-A.ipynb\" target=\"_parent\"><img src=\"https://colab.research.google.com/assets/colab-badge.svg\" alt=\"Open In Colab\"/></a>"
      ]
    },
    {
      "cell_type": "code",
      "execution_count": null,
      "metadata": {
        "id": "yZtuaMXfAkWY"
      },
      "outputs": [],
      "source": []
    },
    {
      "cell_type": "markdown",
      "source": [
        "# Praktikum 1"
      ],
      "metadata": {
        "id": "QcfuLctxCOht"
      }
    },
    {
      "cell_type": "code",
      "source": [],
      "metadata": {
        "id": "Ghda2bumCgq1"
      },
      "execution_count": null,
      "outputs": []
    }
  ]
}